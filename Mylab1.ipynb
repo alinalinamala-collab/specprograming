{
 "cells": [
  {
   "attachments": {},
   "cell_type": "markdown",
   "metadata": {},
   "source": []
  },
  {
   "attachments": {},
   "cell_type": "markdown",
   "metadata": {},
   "source": [
    "### Import libaries\n",
    "##### Ще запушити цей файл в гілку"
   ]
  },
  {
   "cell_type": "code",
   "execution_count": 336,
   "metadata": {},
   "outputs": [],
   "source": [
    "import os\n",
    "import urllib.request\n",
    "from datetime import datetime\n",
    "import pandas as pd\n",
    "import glob\n",
    "from io import StringIO"
   ]
  },
  {
   "attachments": {},
   "cell_type": "markdown",
   "metadata": {},
   "source": [
    "#### New directore-file "
   ]
  },
  {
   "cell_type": "code",
   "execution_count": 337,
   "metadata": {},
   "outputs": [],
   "source": [
    "data_dir = \"VHI_data\"\n",
    "os.makedirs(data_dir, exist_ok=True)"
   ]
  },
  {
   "attachments": {},
   "cell_type": "markdown",
   "metadata": {},
   "source": [
    "#### Task 1 : Download raw data"
   ]
  },
  {
   "cell_type": "code",
   "execution_count": 338,
   "metadata": {},
   "outputs": [
    {
     "name": "stdout",
     "output_type": "stream",
     "text": [
      "Файл для області 1 вже існує. Використовуємо існуючий файл.\n",
      "Файл для області 2 вже існує. Використовуємо існуючий файл.\n",
      "Файл для області 3 вже існує. Використовуємо існуючий файл.\n",
      "Файл для області 4 вже існує. Використовуємо існуючий файл.\n",
      "Файл для області 5 вже існує. Використовуємо існуючий файл.\n",
      "Файл для області 6 вже існує. Використовуємо існуючий файл.\n",
      "Файл для області 7 вже існує. Використовуємо існуючий файл.\n",
      "Файл для області 8 вже існує. Використовуємо існуючий файл.\n",
      "Файл для області 9 вже існує. Використовуємо існуючий файл.\n",
      "Файл для області 10 вже існує. Використовуємо існуючий файл.\n",
      "Файл для області 11 вже існує. Використовуємо існуючий файл.\n",
      "Файл для області 12 вже існує. Використовуємо існуючий файл.\n",
      "Файл для області 13 вже існує. Використовуємо існуючий файл.\n",
      "Файл для області 14 вже існує. Використовуємо існуючий файл.\n",
      "Файл для області 15 вже існує. Використовуємо існуючий файл.\n",
      "Файл для області 16 вже існує. Використовуємо існуючий файл.\n",
      "Файл для області 17 вже існує. Використовуємо існуючий файл.\n",
      "Файл для області 18 вже існує. Використовуємо існуючий файл.\n",
      "Файл для області 19 вже існує. Використовуємо існуючий файл.\n",
      "Файл для області 20 вже існує. Використовуємо існуючий файл.\n",
      "Файл для області 21 вже існує. Використовуємо існуючий файл.\n",
      "Файл для області 22 вже існує. Використовуємо існуючий файл.\n",
      "Файл для області 23 вже існує. Використовуємо існуючий файл.\n",
      "Файл для області 24 вже існує. Використовуємо існуючий файл.\n",
      "Файл для області 25 вже існує. Використовуємо існуючий файл.\n",
      "Файл для області 26 вже існує. Використовуємо існуючий файл.\n",
      "Файл для області 27 вже існує. Використовуємо існуючий файл.\n"
     ]
    }
   ],
   "source": [
    "all_data = pd.DataFrame()\n",
    "\n",
    "for pid in range(1, 28):  # 1..27 області\n",
    "    url = f\"https://www.star.nesdis.noaa.gov/smcd/emb/vci/VH/get_TS_admin.php?country=UKR&provinceID={pid}&year1=1982&year2=2024&type=Mean\"\n",
    "    timestamp = datetime.now().strftime(\"%Y%m%d_%H%M%S\")\n",
    "    filename = os.path.join(data_dir, f\"VHI_province_{pid}_{timestamp}.txt\")\n",
    "    \n",
    "    # Перевірка, чи вже існує файл з таким province_id\n",
    "    existing_files = [f for f in os.listdir(data_dir) if f.startswith(f\"VHI_province_{pid}_\")]\n",
    "    if existing_files:\n",
    "        print(f\"Файл для області {pid} вже існує. Використовуємо існуючий файл.\")\n",
    "        filename = os.path.join(data_dir, existing_files[-1])  # беремо останній за датою\n",
    "    else:\n",
    "        urllib.request.urlretrieve(url, filename)\n",
    "        print(f\"File VHI_province_{pid} downloaded\")"
   ]
  },
  {
   "cell_type": "code",
   "execution_count": 290,
   "metadata": {},
   "outputs": [],
   "source": [
    "    # engine=\"python\",     # для regex-роздільників\n",
    "   # names=[\"Year\", \"Week\", \"SMN\", \"SMT\", \"VCI\", \"TCI\", \"VHI\"]  # явно задаємо назви колонок\n",
    "   #if df.tail(1).isnull().any(axis=1).iloc[0]:  # видаляє останній рядок з NaN \n",
    "     #  df = df.iloc[:-1]\n",
    "     \n",
    "     #sep=r\"\\s+\""
   ]
  },
  {
   "attachments": {},
   "cell_type": "markdown",
   "metadata": {},
   "source": [
    "#### Task 2 : open data"
   ]
  },
  {
   "cell_type": "code",
   "execution_count": 340,
   "metadata": {},
   "outputs": [
    {
     "name": "stdout",
     "output_type": "stream",
     "text": [
      "    Year  Week    SMN     SMT    VCI    TCI    VHI  ProvinceID\n",
      "0   1982   2.0  0.063  261.53  55.89  38.20  47.04          10\n",
      "1   1982   3.0  0.063  263.45  57.30  32.69  44.99          10\n",
      "2   1982   4.0  0.061  265.10  53.96  28.62  41.29          10\n",
      "3   1982   5.0  0.058  266.42  46.87  28.57  37.72          10\n",
      "4   1982   6.0  0.056  267.47  39.55  30.27  34.91          10\n",
      "5   1982   7.0  0.055  268.58  35.19  31.10  33.14          10\n",
      "6   1982   8.0  0.057  270.15  33.35  32.09  32.72          10\n",
      "7   1982   9.0  0.057  271.60  30.82  34.71  32.77          10\n",
      "8   1982  10.0  0.057  273.10  27.66  36.79  32.23          10\n",
      "9   1982  11.0  0.063  275.28  26.28  34.48  30.38          10\n",
      "10  1982  12.0  0.074  277.68  25.86  36.39  31.12          10\n",
      "11  1982  13.0  0.085  279.65  22.76  40.53  31.65          10\n",
      "12  1982  14.0  0.098  281.32  18.26  46.96  32.61          10\n",
      "13  1982  15.0  0.107  282.33  11.26  59.73  35.49          10\n",
      "14  1982  16.0  0.129  284.00   9.15  69.23  39.19          10\n",
      "15  1982  17.0  0.161  286.23  10.63  71.64  41.14          10\n",
      "16  1982  18.0  0.203  288.95  15.19  63.82  39.50          10\n",
      "17  1982  19.0  0.252  291.41  20.85  53.29  37.07          10\n",
      "18  1982  20.0  0.299  292.91  25.37  50.39  37.88          10\n",
      "19  1982  21.0  0.337  293.36  27.36  54.62  40.99          10\n"
     ]
    }
   ],
   "source": [
    "path = r\"C:/Specialni-Rozdily-Programuvania/lab1/VHI_data\"    # Шлях до папки з файлами\n",
    "names = glob.glob(os.path.join(path, \"*.txt\"))\n",
    "\n",
    "mylist = []\n",
    "\n",
    "for file_path in names:\n",
    "    with open(file_path, \"r\") as f:\n",
    "        lines = f.readlines()\n",
    "    lines[0] = lines[0].replace(\"<tt><pre>\", \"\").strip()       # 2. Видаляємо тег <tt><pre> на початку третього рядка (перший після пропуску)\n",
    "    data_str = \"\".join(lines)                                  # 3. Об'єднуємо рядки у один рядок для StringIO\n",
    "    df = pd.read_csv(StringIO(data_str), sep=r\"\\s*,\\s*\", \n",
    "                     names=[\"Year\",\"Week\",\"SMN\",\"SMT\",\"VCI\",\"TCI\",\"VHI\"],\n",
    "                     engine=\"python\", skiprows=2, index_col=False)\n",
    "    province_id = int(os.path.basename(file_path).split(\"_\")[2])    # 4. Додаємо ProvinceID з назви файлу\n",
    "    df[\"ProvinceID\"] = province_id\n",
    "    mylist.append(df)\n",
    "    \n",
    "final_df = pd.concat(mylist, ignore_index=True)\n",
    "print(final_df.head(20))"
   ]
  },
  {
   "attachments": {},
   "cell_type": "markdown",
   "metadata": {},
   "source": [
    "##### Not well working table"
   ]
  },
  {
   "cell_type": "code",
   "execution_count": 356,
   "metadata": {},
   "outputs": [],
   "source": [
    "path=\"C:/Specialni-Rozdily-Programuvania/lab1/VHI_data\"\n",
    "names=glob.glob(os.path.join(path, \"*.txt\"))\n",
    "mylist=[]\n",
    "for i in names:\n",
    "    df = pd.read_csv(i, sep=r\"\\s+\",skiprows=2, engine=\"python\", names= [\"Year\", \"Week\", \"SMN\", \"SMT\", \"VCI\", \"TCI\", \"VHI\"],)\n",
    "    mylist.append(df)\n",
    "   \n",
    "    # print(i, df.head())"
   ]
  },
  {
   "cell_type": "code",
   "execution_count": 357,
   "metadata": {},
   "outputs": [
    {
     "name": "stdout",
     "output_type": "stream",
     "text": [
      "             Year Week            SMN     SMT     VCI     TCI  VHI\n",
      "0  <tt><pre>1982,   1,  0.059,258.24,  51.11,  48.78,  49.95,  NaN\n",
      "1           1982,   2,  0.063,261.53,  55.89,  38.20,  47.04,  NaN\n",
      "2           1982,   3,  0.063,263.45,  57.30,  32.69,  44.99,  NaN\n",
      "3           1982,   4,  0.061,265.10,  53.96,  28.62,  41.29,  NaN\n",
      "4           1982,   5,  0.058,266.42,  46.87,  28.57,  37.72,  NaN\n"
     ]
    }
   ],
   "source": [
    "final_df=pd.concat(mylist, ignore_index =True)\n",
    "print(final_df.head())\n",
    "# print(final_df)"
   ]
  },
  {
   "attachments": {},
   "cell_type": "markdown",
   "metadata": {},
   "source": [
    "#### Task 3 : New indexes"
   ]
  },
  {
   "attachments": {},
   "cell_type": "markdown",
   "metadata": {},
   "source": [
    "##### Відповідність NOAA (англійська абетка) → українська абетка"
   ]
  },
  {
   "cell_type": "code",
   "execution_count": 361,
   "metadata": {},
   "outputs": [],
   "source": [
    "province_ukr = {\n",
    "1:\"АР Крим\", 2:\"Вінницька\", 3: \"Волинська\", 4:\"Дніпровська\", 5:\"Донецька\", 6:\"Житомирська\", 7:\"Закарпатська\",\t\n",
    "8:\"Запорізька\", 9:\"Івано-Франківська\", 10:\"Київська\", 11:\"Київ\", 12:\"Кіровоградська\",\t\n",
    "13:\"Луганська\", 14:\"Львівська\", 15:\"Миколаївська\", 16:\"Одеська\", 17:\"Полтавська\", 18:\"Рівненська\",\t\n",
    "19:\"Сумська\", 20:\"Севастопольська\", 21:\"Тернопільська\", 22:\"Харківська\", 23:\"Херсонська\",\t\n",
    "24:\"Хмельницька\", 25:\"Черкаська\", 26:\"Чернівецька\", 27:\"Чернігівська\",  }"
   ]
  },
  {
   "cell_type": "code",
   "execution_count": 362,
   "metadata": {},
   "outputs": [],
   "source": [
    "noaa_to_ukr = {\n",
    "     2:  1,  # Vinnytsia → Вінницька\n",
    "     3:  2,  # Volyn → Волинська\n",
    "     4:  3,  # Dnipropetrovsk → Дніпропетровська\n",
    "     5:  4,  # Donetsk → Донецька\n",
    "     6:  5,  # Zhytomyr → Житомирська\n",
    "     7:  6,  # Zakarpattia → Закарпатська\n",
    "     8:  7,  # Zaporizhzhia → Запорізька\n",
    "     9:  8,  # Ivano-Frankivsk → Івано-Франківська\n",
    "    10:  9,  # Kyivska → Київська\n",
    "    11: 10,  # Kyiv → Київ\n",
    "    12: 11,  # Kirovohrad → Кіровоградська\n",
    "    13: 12,  # Luhansk → Луганська\n",
    "    14: 13,  # Lviv → Львівська\n",
    "    15: 14,  # Mykolaiv → Миколаївська\n",
    "    16: 15,  # Odesa → Одеська\n",
    "    17: 16,  # Poltava → Полтавська\n",
    "    18: 17,  # Rivne → Рівненська\n",
    "    19: 18,  # Sumy → Сумська\n",
    "    20: 19,  # Sevastopol → Севастополь\n",
    "    21: 20,  # Ternopil → Тернопільська\n",
    "    22: 21,  # Kharkiv → Харківська\n",
    "    23: 22,  # Kherson → Херсонська\n",
    "    24: 23,  # Khmelnytskyi → Хмельницька\n",
    "    25: 24,  # Cherkasy → Черкаська\n",
    "    26: 25,  # Chernivtsi → Чернівецька\n",
    "    27: 26,  # Chernihiv → Чернігівська\n",
    "     1: 27   # Crimea → АР Крим\n",
    "}"
   ]
  },
  {
   "attachments": {},
   "cell_type": "markdown",
   "metadata": {},
   "source": [
    "#### Take number from VHI file"
   ]
  },
  {
   "cell_type": "code",
   "execution_count": 388,
   "metadata": {},
   "outputs": [],
   "source": [
    "mynewlist = []\n",
    "for i in names:\n",
    "    province_id = int(os.path.basename(i).split(\"_\")[2])    # Витягуємо номер області з назви файлу\n",
    "\n",
    "    with open(i, \"r\") as f:                                 # 1. Зчитуємо файл рядками\n",
    "        lines = f.readlines()\n",
    "        \n",
    "    lines = lines[2:]                                       # 2. Пропускаємо перші два рядки опису\n",
    "    lines[0] = lines[0].replace(\"<tt><pre>\", \"\").strip()    # 3. Видаляємо тег <tt><pre> з першого рядка після пропуску\n",
    "    data_lines = lines[1:]                                  # 5. Дані починаються з наступного рядка\n",
    "    data_str = \"\".join(data_lines)\n",
    "    \n",
    "    df = pd.read_csv(StringIO(data_str), sep=r\"\\s*,\\s*\", names=[\"Year\",\"Week\",\"SMN\",\"SMT\",\"VCI\",\"TCI\",\"VHI\"], engine=\"python\", index_col=False) \n",
    "    df[\"ProvinceID\"] = province_id                          # 6. Додаємо колонку з NOAA ProvinceID\n",
    "    mynewlist.append(df)\n",
    "\n",
    "finaly_df = pd.concat(mynewlist, ignore_index=True)         # 7. Об’єднуємо всі області"
   ]
  },
  {
   "attachments": {},
   "cell_type": "markdown",
   "metadata": {},
   "source": [
    "#### changing on a ukrainian indexes"
   ]
  },
  {
   "cell_type": "code",
   "execution_count": 389,
   "metadata": {},
   "outputs": [
    {
     "name": "stdout",
     "output_type": "stream",
     "text": [
      "    Year  Week    SMN     SMT    VCI    TCI    VHI  ProvinceID  \\\n",
      "0   1982   2.0  0.063  261.53  55.89  38.20  47.04           9   \n",
      "1   1982   3.0  0.063  263.45  57.30  32.69  44.99           9   \n",
      "2   1982   4.0  0.061  265.10  53.96  28.62  41.29           9   \n",
      "3   1982   5.0  0.058  266.42  46.87  28.57  37.72           9   \n",
      "4   1982   6.0  0.056  267.47  39.55  30.27  34.91           9   \n",
      "5   1982   7.0  0.055  268.58  35.19  31.10  33.14           9   \n",
      "6   1982   8.0  0.057  270.15  33.35  32.09  32.72           9   \n",
      "7   1982   9.0  0.057  271.60  30.82  34.71  32.77           9   \n",
      "8   1982  10.0  0.057  273.10  27.66  36.79  32.23           9   \n",
      "9   1982  11.0  0.063  275.28  26.28  34.48  30.38           9   \n",
      "10  1982  12.0  0.074  277.68  25.86  36.39  31.12           9   \n",
      "11  1982  13.0  0.085  279.65  22.76  40.53  31.65           9   \n",
      "12  1982  14.0  0.098  281.32  18.26  46.96  32.61           9   \n",
      "13  1982  15.0  0.107  282.33  11.26  59.73  35.49           9   \n",
      "14  1982  16.0  0.129  284.00   9.15  69.23  39.19           9   \n",
      "15  1982  17.0  0.161  286.23  10.63  71.64  41.14           9   \n",
      "16  1982  18.0  0.203  288.95  15.19  63.82  39.50           9   \n",
      "17  1982  19.0  0.252  291.41  20.85  53.29  37.07           9   \n",
      "18  1982  20.0  0.299  292.91  25.37  50.39  37.88           9   \n",
      "19  1982  21.0  0.337  293.36  27.36  54.62  40.99           9   \n",
      "\n",
      "         ProvinceName  \n",
      "0   Івано-Франківська  \n",
      "1   Івано-Франківська  \n",
      "2   Івано-Франківська  \n",
      "3   Івано-Франківська  \n",
      "4   Івано-Франківська  \n",
      "5   Івано-Франківська  \n",
      "6   Івано-Франківська  \n",
      "7   Івано-Франківська  \n",
      "8   Івано-Франківська  \n",
      "9   Івано-Франківська  \n",
      "10  Івано-Франківська  \n",
      "11  Івано-Франківська  \n",
      "12  Івано-Франківська  \n",
      "13  Івано-Франківська  \n",
      "14  Івано-Франківська  \n",
      "15  Івано-Франківська  \n",
      "16  Івано-Франківська  \n",
      "17  Івано-Франківська  \n",
      "18  Івано-Франківська  \n",
      "19  Івано-Франківська  \n"
     ]
    }
   ],
   "source": [
    "finaly_df[\"ProvinceID\"] = finaly_df[\"ProvinceID\"].map(noaa_to_ukr)\n",
    "finaly_df[\"ProvinceName\"] = finaly_df[\"ProvinceID\"].map(province_ukr)\n",
    "\n",
    "print(finaly_df.head(20)) "
   ]
  },
  {
   "attachments": {},
   "cell_type": "markdown",
   "metadata": {},
   "source": [
    "### Task 4 : formation of samples\n",
    "#### By year"
   ]
  },
  {
   "attachments": {},
   "cell_type": "markdown",
   "metadata": {},
   "source": [
    "##### Checking objects types in columns "
   ]
  },
  {
   "cell_type": "code",
   "execution_count": 409,
   "metadata": {},
   "outputs": [
    {
     "name": "stdout",
     "output_type": "stream",
     "text": [
      "Year             object\n",
      "Week            float64\n",
      "SMN             float64\n",
      "SMT             float64\n",
      "VCI             float64\n",
      "TCI             float64\n",
      "VHI             float64\n",
      "ProvinceID        int64\n",
      "ProvinceName     object\n",
      "dtype: object\n",
      "['1982' '1983' '1984' '1985' '1986' '1987' '1988' '1989' '1990' '1991'\n",
      " '1992' '1993' '1994' '1995' '1996' '1997' '1998' '1999' '2000' '2001']\n"
     ]
    }
   ],
   "source": [
    "print(finaly_df.dtypes)\n",
    "print(finaly_df[\"Year\"].unique()[:20])   # подивимось перші 20 унікальних значень"
   ]
  },
  {
   "attachments": {},
   "cell_type": "markdown",
   "metadata": {},
   "source": [
    "##### Cleaning the 'Year' column of extra characters and converting it in to number"
   ]
  },
  {
   "cell_type": "code",
   "execution_count": 410,
   "metadata": {},
   "outputs": [
    {
     "name": "stdout",
     "output_type": "stream",
     "text": [
      "<IntegerArray>\n",
      "[1982, 1983, 1984, 1985, 1986, 1987, 1988, 1989, 1990, 1991, 1992, 1993, 1994,\n",
      " 1995, 1996, 1997, 1998, 1999, 2000, 2001]\n",
      "Length: 20, dtype: Int64\n"
     ]
    }
   ],
   "source": [
    "finaly_df[\"Year\"] = (\n",
    "    finaly_df[\"Year\"]\n",
    "    .astype(str)        # привести до рядка\n",
    "    .str.replace(r\"[^\\d]\", \"\", regex=True)  # залишити лише цифри\n",
    "    .replace(\"\", None)  # порожнє → None\n",
    "    .astype(float)      # перетворити на число\n",
    "    .astype(\"Int64\")    # зберігати як int з NaN\n",
    ")\n",
    "print(finaly_df[\"Year\"].unique()[:20])"
   ]
  },
  {
   "attachments": {},
   "cell_type": "markdown",
   "metadata": {},
   "source": [
    "##### Make a sample by 2007 year"
   ]
  },
  {
   "cell_type": "code",
   "execution_count": 411,
   "metadata": {},
   "outputs": [
    {
     "name": "stdout",
     "output_type": "stream",
     "text": [
      "      Year  Week    SMN     SMT    VCI    TCI    VHI  ProvinceID  \\\n",
      "1299  2007   1.0  0.102  269.33  94.40   6.91  50.66           9   \n",
      "1300  2007   2.0  0.099  269.07  91.49  10.05  50.77           9   \n",
      "1301  2007   3.0  0.094  268.88  87.36  12.59  49.98           9   \n",
      "1302  2007   4.0  0.088  268.44  79.74  17.01  48.38           9   \n",
      "1303  2007   5.0  0.078  267.56  64.16  25.27  44.72           9   \n",
      "1304  2007   6.0  0.075  267.51  53.68  30.95  42.32           9   \n",
      "1305  2007   7.0  0.078  268.37  51.24  32.80  42.02           9   \n",
      "1306  2007   8.0  0.088  270.78  53.48  31.21  42.35           9   \n",
      "1307  2007   9.0  0.109  274.38  61.80  26.19  44.00           9   \n",
      "1308  2007  10.0  0.135  278.15  71.11  19.96  45.53           9   \n",
      "1309  2007  11.0  0.161  281.23  78.30  13.53  45.92           9   \n",
      "1310  2007  12.0  0.188  283.62  84.53  14.56  49.55           9   \n",
      "1311  2007  13.0  0.218  286.35  89.53  12.98  51.25           9   \n",
      "1312  2007  14.0  0.253  288.54  94.24   8.80  51.52           9   \n",
      "1313  2007  15.0  0.288  290.12  95.05   7.46  51.26           9   \n",
      "1314  2007  16.0  0.321  291.69  93.41   9.05  51.23           9   \n",
      "1315  2007  17.0  0.354  293.20  92.14  10.36  51.25           9   \n",
      "1316  2007  18.0  0.385  294.56  90.09  11.24  50.67           9   \n",
      "1317  2007  19.0  0.414  295.87  87.90  11.33  49.61           9   \n",
      "1318  2007  20.0  0.436  296.77  85.51  13.38  49.45           9   \n",
      "\n",
      "           ProvinceName  \n",
      "1299  Івано-Франківська  \n",
      "1300  Івано-Франківська  \n",
      "1301  Івано-Франківська  \n",
      "1302  Івано-Франківська  \n",
      "1303  Івано-Франківська  \n",
      "1304  Івано-Франківська  \n",
      "1305  Івано-Франківська  \n",
      "1306  Івано-Франківська  \n",
      "1307  Івано-Франківська  \n",
      "1308  Івано-Франківська  \n",
      "1309  Івано-Франківська  \n",
      "1310  Івано-Франківська  \n",
      "1311  Івано-Франківська  \n",
      "1312  Івано-Франківська  \n",
      "1313  Івано-Франківська  \n",
      "1314  Івано-Франківська  \n",
      "1315  Івано-Франківська  \n",
      "1316  Івано-Франківська  \n",
      "1317  Івано-Франківська  \n",
      "1318  Івано-Франківська  \n",
      "------------------------------------------------------------\n",
      "       Year  Week    SMN     SMT    VCI    TCI    VHI  ProvinceID  \\\n",
      "1299   2007   1.0  0.102  269.33  94.40   6.91  50.66           9   \n",
      "1300   2007   2.0  0.099  269.07  91.49  10.05  50.77           9   \n",
      "1301   2007   3.0  0.094  268.88  87.36  12.59  49.98           9   \n",
      "1302   2007   4.0  0.088  268.44  79.74  17.01  48.38           9   \n",
      "1303   2007   5.0  0.078  267.56  64.16  25.27  44.72           9   \n",
      "...     ...   ...    ...     ...    ...    ...    ...         ...   \n",
      "59482  2007  48.0  0.155  274.03  66.60  31.56  49.08           8   \n",
      "59483  2007  49.0  0.134  271.85  61.25  32.65  46.95           8   \n",
      "59484  2007  50.0  0.118  270.11  58.11  32.43  45.27           8   \n",
      "59485  2007  51.0  0.114  269.45  60.96  29.15  45.06           8   \n",
      "59486  2007  52.0  0.117  269.61  65.73  25.29  45.51           8   \n",
      "\n",
      "            ProvinceName  \n",
      "1299   Івано-Франківська  \n",
      "1300   Івано-Франківська  \n",
      "1301   Івано-Франківська  \n",
      "1302   Івано-Франківська  \n",
      "1303   Івано-Франківська  \n",
      "...                  ...  \n",
      "59482         Запорізька  \n",
      "59483         Запорізька  \n",
      "59484         Запорізька  \n",
      "59485         Запорізька  \n",
      "59486         Запорізька  \n",
      "\n",
      "[1404 rows x 9 columns]\n"
     ]
    }
   ],
   "source": [
    "year_df=finaly_df[finaly_df[\"Year\"] == 2007]\n",
    "print(year_df.head(20))\n",
    "print(\"------------------------------------------------------------\")\n",
    "print(year_df)"
   ]
  },
  {
   "attachments": {},
   "cell_type": "markdown",
   "metadata": {},
   "source": [
    "##### Make a sample between 1995 and 2004 years"
   ]
  },
  {
   "cell_type": "code",
   "execution_count": 419,
   "metadata": {},
   "outputs": [
    {
     "name": "stdout",
     "output_type": "stream",
     "text": [
      "       Year  Week    SMN     SMT    VCI    TCI    VHI  ProvinceID ProvinceName\n",
      "45395  1995   1.0 -1.000   -1.00  -1.00  -1.00  -1.00           2    Вінницька\n",
      "45396  1995   2.0 -1.000   -1.00  -1.00  -1.00  -1.00           2    Вінницька\n",
      "45397  1995   3.0 -1.000   -1.00  -1.00  -1.00  -1.00           2    Вінницька\n",
      "45398  1995   4.0  0.133  273.83  83.08  11.37  47.22           2    Вінницька\n",
      "45399  1995   5.0  0.136  274.64  82.33  10.66  46.49           2    Вінницька\n",
      "...     ...   ...    ...     ...    ...    ...    ...         ...          ...\n",
      "45910  2004  48.0  0.148  270.85  68.62  33.96  51.29           2    Вінницька\n",
      "45911  2004  49.0  0.141  269.23  73.75  34.67  54.21           2    Вінницька\n",
      "45912  2004  50.0  0.133  268.34  77.92  30.54  54.23           2    Вінницька\n",
      "45913  2004  51.0  0.132  268.21  85.59  25.06  55.32           2    Вінницька\n",
      "45914  2004  52.0  0.127  267.49  87.20  27.02  57.11           2    Вінницька\n",
      "\n",
      "[104 rows x 9 columns]\n"
     ]
    }
   ],
   "source": [
    "years_df=finaly_df[(finaly_df[\"Year\"].isin([1995,2004]))& (finaly_df[\"ProvinceName\"]== \"Вінницька\")]\n",
    "print(years_df)"
   ]
  },
  {
   "attachments": {},
   "cell_type": "markdown",
   "metadata": {},
   "source": [
    "##### Make a sample between 1995 and 2004 years and for several areas"
   ]
  },
  {
   "cell_type": "code",
   "execution_count": 420,
   "metadata": {},
   "outputs": [
    {
     "name": "stdout",
     "output_type": "stream",
     "text": [
      "       Year  Week    SMN     SMT    VCI    TCI    VHI  ProvinceID ProvinceName\n",
      "2911   1995   1.0 -1.000   -1.00  -1.00  -1.00  -1.00          10     Київська\n",
      "2912   1995   2.0 -1.000   -1.00  -1.00  -1.00  -1.00          10     Київська\n",
      "2913   1995   3.0 -1.000   -1.00  -1.00  -1.00  -1.00          10     Київська\n",
      "2914   1995   4.0  0.084  264.38  56.65  28.06  42.36          10     Київська\n",
      "2915   1995   5.0  0.086  266.27  55.54  25.62  40.58          10     Київська\n",
      "...     ...   ...    ...     ...    ...    ...    ...         ...          ...\n",
      "54854  2004  48.0  0.172  269.75  63.77  39.90  51.84           6  Житомирська\n",
      "54855  2004  49.0  0.163  268.68  64.68  38.67  51.67           6  Житомирська\n",
      "54856  2004  50.0  0.153  268.11  66.46  33.83  50.15           6  Житомирська\n",
      "54857  2004  51.0  0.149  267.79  72.03  29.65  50.84           6  Житомирська\n",
      "54858  2004  52.0  0.141  266.58  71.50  32.40  51.95           6  Житомирська\n",
      "\n",
      "[208 rows x 9 columns]\n"
     ]
    }
   ],
   "source": [
    "years_df=finaly_df[(finaly_df[\"Year\"].isin([1995,2004]))& (finaly_df[\"ProvinceName\"].isin([\"Житомирська\",\"Київська\"]))]\n",
    "print(years_df)"
   ]
  },
  {
   "attachments": {},
   "cell_type": "markdown",
   "metadata": {},
   "source": [
    "#### Search for extrema"
   ]
  },
  {
   "cell_type": "code",
   "execution_count": 421,
   "metadata": {},
   "outputs": [
    {
     "name": "stdout",
     "output_type": "stream",
     "text": [
      "        ProvinceName  min_value  max_value  mean_value  median_value\n",
      "0  Івано-Франківська       -1.0      79.40   46.478000         47.07\n",
      "1        Житомирська       -1.0      73.35   46.457136         47.44\n",
      "2       Закарпатська       -1.0      91.42   47.148573         47.05\n",
      "3         Запорізька       -1.0      90.61   43.055535         42.01\n",
      "4           Київська       -1.0      80.88   46.090658         45.68\n"
     ]
    }
   ],
   "source": [
    "# Список потрібних областей\n",
    "provinces = [\"Житомирська\", \"Закарпатська\", \"Запорізька\", \"Івано-Франківська\", \"Київська\"]\n",
    "\n",
    "# Фільтруємо датафрейм тільки для цих областей\n",
    "subset = finaly_df[finaly_df[\"ProvinceName\"].isin(provinces)]\n",
    "\n",
    "# Групування і обчислення статистик по VHI\n",
    "stats = subset.groupby(\"ProvinceName\")[\"VHI\"].agg(\n",
    "    min_value=\"min\",\n",
    "    max_value=\"max\",\n",
    "    mean_value=\"mean\",\n",
    "    median_value=\"median\"\n",
    ").reset_index()\n",
    "\n",
    "print(stats)\n"
   ]
  },
  {
   "attachments": {},
   "cell_type": "markdown",
   "metadata": {},
   "source": [
    "#### Sample from teacher"
   ]
  }
 ],
 "metadata": {
  "kernelspec": {
   "display_name": "SpecProg",
   "language": "python",
   "name": "python3"
  },
  "language_info": {
   "codemirror_mode": {
    "name": "ipython",
    "version": 3
   },
   "file_extension": ".py",
   "mimetype": "text/x-python",
   "name": "python",
   "nbconvert_exporter": "python",
   "pygments_lexer": "ipython3",
   "version": "3.13.7"
  },
  "orig_nbformat": 4
 },
 "nbformat": 4,
 "nbformat_minor": 2
}
